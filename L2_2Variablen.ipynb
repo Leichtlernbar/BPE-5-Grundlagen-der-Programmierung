{
 "cells": [
  {
   "cell_type": "markdown",
   "metadata": {
    "nbgrader": {
     "grade": false,
     "grade_id": "cell-f532f804eaceb8f0",
     "locked": true,
     "schema_version": 3,
     "solution": false,
     "task": false
    }
   },
   "source": [
    "# L2_2 Variablen\n",
    "### Hinweis:\n",
    "Beachten Sie zur Bearbeitung der nachfolgenden Aufgabenstellungen das Informationsmaterial \n",
    "* L2_2_1 Information_Variablen_Zeichenkette.docx, \n",
    "* L2_2_2 Information_Variablen_Zahlen.docx und \n",
    "* L2_2_3 Information_Variablen_Wahrheitswert.docx.\n",
    "\n",
    "## Problemstellung\n",
    "Schreiben Sie ein Programm, das die Daten eines Schülers in mehreren Variablen speichert und hinterher ausgibt. Zu speichern sind: Nachname, Vorname, Alter, Notendurchschnitt, zweite Fremdsprache(True/False) und Musik (True/False). Diese Daten sollen dann im Browser ausgegeben werden.\n",
    "\n",
    "## Problemanalyse\n",
    "### 1. Welche Ausgabedaten will man erhalten?"
   ]
  },
  {
   "cell_type": "markdown",
   "metadata": {
    "nbgrader": {
     "grade": true,
     "grade_id": "cell-a419dcdddf6fba52",
     "locked": false,
     "points": 0,
     "schema_version": 3,
     "solution": true,
     "task": false
    }
   },
   "source": [
    "### BEGIN SOLUTION\n",
    "Nachname, Vorname, Alter, Notendurchschnitt, zweite Fremdsprache, Musik\n",
    "### END SOLUTION"
   ]
  },
  {
   "cell_type": "markdown",
   "metadata": {
    "nbgrader": {
     "grade": false,
     "grade_id": "cell-c03aaff6031dfb6a",
     "locked": true,
     "schema_version": 3,
     "solution": false,
     "task": false
    }
   },
   "source": [
    "### 2. Welche Daten werden zur Bearbeitung benötigt?"
   ]
  },
  {
   "cell_type": "markdown",
   "metadata": {
    "nbgrader": {
     "grade": true,
     "grade_id": "cell-cdef46583af35b7f",
     "locked": false,
     "points": 0,
     "schema_version": 3,
     "solution": true,
     "task": false
    }
   },
   "source": [
    "### BEGIN SOLUTION\n",
    "Nachname, Vorname, Alter, Notendurchschnitt, zweite Fremdsprache, Musik\n",
    "### END SOLUTION"
   ]
  },
  {
   "cell_type": "markdown",
   "metadata": {
    "nbgrader": {
     "grade": false,
     "grade_id": "cell-53b1db427ec78485",
     "locked": true,
     "schema_version": 3,
     "solution": false,
     "task": false
    }
   },
   "source": [
    "### 3. Welche Eigenschaften haben die Ausgabedaten? (Variablenliste)"
   ]
  },
  {
   "cell_type": "markdown",
   "metadata": {
    "nbgrader": {
     "grade": true,
     "grade_id": "cell-2f1f411c1c26b5eb",
     "locked": false,
     "points": 0,
     "schema_version": 3,
     "solution": true,
     "task": false
    }
   },
   "source": [
    "|Bedeutung|Typ|Variable|\n",
    "|:----|:----|:----|\n",
    "|hier | schreiben| ...|\n",
    "### BEGIN SOLUTION\n",
    "|Name |Zeichenkette| nachname|\n",
    "|Vorname|Zeichenkette|vorname|\n",
    "|Alter|Ganzzahl|alter|\n",
    "|Notendurchschnitt|Dezimalzahl|schnitt|\n",
    "|zweite Fremdsprache|Wahrheitswert|zweit_fremd|\n",
    "|Musik|Wahrheitswert|musik|\n",
    "### END SOLUTION"
   ]
  },
  {
   "cell_type": "markdown",
   "metadata": {
    "nbgrader": {
     "grade": false,
     "grade_id": "cell-0213ab66eb5f190c",
     "locked": true,
     "schema_version": 3,
     "solution": false,
     "task": false
    }
   },
   "source": [
    "### 4. So soll die Bildschirmausgabe des Programms aussehen (Beispieldaten):\n",
    "    Name: Max Mustermann\n",
    "    Alter: 17\n",
    "    Notenschnitt: 1.8\n",
    "    2. Fremdsprache belegt: True\n",
    "    Musik belegt: False\n",
    "\n",
    "## Programmcode"
   ]
  },
  {
   "cell_type": "code",
   "execution_count": null,
   "metadata": {
    "nbgrader": {
     "grade": false,
     "grade_id": "cell-fd7765231e823d09",
     "locked": false,
     "schema_version": 3,
     "solution": true,
     "task": false
    }
   },
   "outputs": [],
   "source": [
    "### BEGIN SOLUTION\n",
    "# Deklaration und Initialisierung der Variablen:\n",
    "nachname = \"Mustermann\"\t\n",
    "vorname = \"Max\"\n",
    "alter = 17\n",
    "schnitt = 1.8\n",
    "zweit_fremd = True\n",
    "musik = False\n",
    "\n",
    "# Ausgabe:\n",
    "print(\"Name:\", vorname, nachname)\n",
    "print(\"Alter:\", alter)\n",
    "print(\"Notenschnitt:\", schnitt)\n",
    "print(\"2. Fremdsprache belegt:\", zweit_fremd)\n",
    "print(\"Musik belegt:\", musik)\n",
    "### END SOLUTION"
   ]
  },
  {
   "cell_type": "markdown",
   "metadata": {
    "nbgrader": {
     "grade": false,
     "grade_id": "cell-6e05c564e33b7300",
     "locked": true,
     "schema_version": 3,
     "solution": false,
     "task": false
    }
   },
   "source": [
    "## Struktogramm"
   ]
  },
  {
   "cell_type": "markdown",
   "metadata": {
    "nbgrader": {
     "grade": true,
     "grade_id": "cell-2e26d8a542177549",
     "locked": false,
     "points": 0,
     "schema_version": 3,
     "solution": true,
     "task": false
    }
   },
   "source": [
    "### BEGIN SOLUTION\n",
    "Struktogramm\n",
    "### END SOLUTION"
   ]
  }
 ],
 "metadata": {
  "celltoolbar": "Create Assignment",
  "kernelspec": {
   "display_name": "Python 3",
   "language": "python",
   "name": "python3"
  },
  "language_info": {
   "codemirror_mode": {
    "name": "ipython",
    "version": 3
   },
   "file_extension": ".py",
   "mimetype": "text/x-python",
   "name": "python",
   "nbconvert_exporter": "python",
   "pygments_lexer": "ipython3",
   "version": "3.7.3"
  }
 },
 "nbformat": 4,
 "nbformat_minor": 4
}
