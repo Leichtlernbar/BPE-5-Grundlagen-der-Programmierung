{
 "cells": [
  {
   "cell_type": "markdown",
   "metadata": {},
   "source": [
    "# L2_1 \tAusgabe von Zeichenketten\n",
    "### Hinweis:\t\n",
    "Beachten Sie zur Bearbeitung der nachfolgenden Aufgabenstellungen das Informationsmaterial L2_1_2 Information_Ausgabe_von_Zeichen.docx\n",
    "\n",
    "## Problemstellung\n",
    "Schreiben Sie ein Python-Programm, das Ihre persönlichen Daten auf dem Bildschirm ausgibt.\n",
    "\n",
    "## Problemanalyse\n",
    "So soll die Bildschirmausgabe des Programms aussehen (Beispiel):\n",
    "\n",
    "    Meine Daten:\n",
    "    Nachname: Müller\n",
    "    Vorname: Karin\n",
    "    Straße: Karlstr. 17\n",
    "    Stadt: 78199 Donaueschingen\n",
    "    \n",
    "## Ihr Programmcode\n",
    "Schreiben Sie in der nächsten Zelle und führen Sie mit Strg-Enter aus."
   ]
  },
  {
   "cell_type": "code",
   "execution_count": null,
   "metadata": {},
   "outputs": [],
   "source": [
    "### BEGIN SOLUTION\n",
    "print(\"Meine Daten:\")\n",
    "print(\"Nachname: Müller\")\n",
    "print(\"Vorname: Karin\")\n",
    "print(\"Straße: Karlstr. 17\")\n",
    "print(\"Stadt: 78166 Donaueschingen\")\n",
    "### END SOLUTION"
   ]
  }
 ],
 "metadata": {
  "kernelspec": {
   "display_name": "Python 3",
   "language": "python",
   "name": "python3"
  },
  "language_info": {
   "codemirror_mode": {
    "name": "ipython",
    "version": 3
   },
   "file_extension": ".py",
   "mimetype": "text/x-python",
   "name": "python",
   "nbconvert_exporter": "python",
   "pygments_lexer": "ipython3",
   "version": "3.7.3"
  }
 },
 "nbformat": 4,
 "nbformat_minor": 4
}
